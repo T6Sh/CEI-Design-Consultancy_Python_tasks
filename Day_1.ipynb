{
  "nbformat": 4,
  "nbformat_minor": 0,
  "metadata": {
    "colab": {
      "provenance": []
    },
    "kernelspec": {
      "name": "python3",
      "display_name": "Python 3"
    },
    "language_info": {
      "name": "python"
    }
  },
  "cells": [
    {
      "cell_type": "markdown",
      "source": [
        "# **Python Programming Basics**"
      ],
      "metadata": {
        "id": "TgmSIcQg6KXi"
      }
    },
    {
      "cell_type": "markdown",
      "source": [
        "##1. Write a Python program that prints \"Hello World!\" to the console."
      ],
      "metadata": {
        "id": "0-f2A5Dy75IA"
      }
    },
    {
      "cell_type": "code",
      "source": [
        "print(\"Hello World!\")"
      ],
      "metadata": {
        "colab": {
          "base_uri": "https://localhost:8080/"
        },
        "id": "_5vk0FN-734j",
        "outputId": "1348c8dd-c370-4e34-bdc8-93cdd3ac35b5"
      },
      "execution_count": 1,
      "outputs": [
        {
          "output_type": "stream",
          "name": "stdout",
          "text": [
            "Hello World!\n"
          ]
        }
      ]
    },
    {
      "cell_type": "markdown",
      "source": [
        "##2. Create variables to store your name, age and favorite hobby. Print these variables."
      ],
      "metadata": {
        "id": "sPo_hcg88JyG"
      }
    },
    {
      "cell_type": "code",
      "execution_count": 6,
      "metadata": {
        "colab": {
          "base_uri": "https://localhost:8080/"
        },
        "id": "HhiFkoI25yhe",
        "outputId": "b94335ef-3f14-41ec-b768-02c68062ac0e"
      },
      "outputs": [
        {
          "output_type": "stream",
          "name": "stdout",
          "text": [
            "My name is Tamanna Sharma My age is  24 and my hobby is Coding\n"
          ]
        }
      ],
      "source": [
        "name = \"Tamanna Sharma\"\n",
        "age = 24\n",
        "hobby = \"Coding\"\n",
        "\n",
        "print(\"My name is\",name,\"My age is \",age,\"and my hobby is\",hobby)"
      ]
    },
    {
      "cell_type": "markdown",
      "source": [
        "##3. Add comments to your code explaining what each line does."
      ],
      "metadata": {
        "id": "SJOS-vmNAza3"
      }
    },
    {
      "cell_type": "code",
      "source": [
        "# This is a single line comment.\n",
        "print(\"HEllo, world!\")\n",
        "\n",
        "#This is a comment\n",
        "#just written in\n",
        "#more than one line"
      ],
      "metadata": {
        "colab": {
          "base_uri": "https://localhost:8080/"
        },
        "id": "Ll224KWxAz0T",
        "outputId": "f7f5a1f4-7eda-4d91-c97d-41c47b398292"
      },
      "execution_count": 7,
      "outputs": [
        {
          "output_type": "stream",
          "name": "stdout",
          "text": [
            "HEllo, world!\n"
          ]
        }
      ]
    },
    {
      "cell_type": "markdown",
      "source": [
        "##4. Write a Python program that takes an integer input from the user, and prints whether the number is +ve, -ve or zero."
      ],
      "metadata": {
        "id": "UNClVvg2FubA"
      }
    },
    {
      "cell_type": "code",
      "source": [
        "n = int(input(\"Enter a number:\"))\n",
        "if n >0:\n",
        "  print(n,\"is a positive number.\")\n",
        "elif n<0:\n",
        "  print(n,\"is a negative number.\")\n",
        "else:\n",
        "  print(n,\"is zero.\")"
      ],
      "metadata": {
        "colab": {
          "base_uri": "https://localhost:8080/"
        },
        "id": "zQnPyt3FMXr7",
        "outputId": "7e86a9db-4aad-4abf-ac1e-ed88536bd9a2"
      },
      "execution_count": 8,
      "outputs": [
        {
          "output_type": "stream",
          "name": "stdout",
          "text": [
            "Enter a number:-3\n",
            "-3 is a negative number.\n"
          ]
        }
      ]
    },
    {
      "cell_type": "markdown",
      "source": [
        "##5. Create a program to check if the given year is leap year not."
      ],
      "metadata": {
        "id": "QWnlXQs_FwGz"
      }
    },
    {
      "cell_type": "code",
      "source": [
        "year = int(input(\"Enter an year: \"))\n",
        "\n",
        "# Utilizing Python If-else shorthand\n",
        "print(year,\"is a Leap year\") if (year%4==0 and year%100!=0) or (year%400 == 0) else print(year,\"is not a leap year.\")"
      ],
      "metadata": {
        "colab": {
          "base_uri": "https://localhost:8080/"
        },
        "id": "TVn9BArYM_IW",
        "outputId": "37a7372d-8594-4bca-c368-02834b28108c"
      },
      "execution_count": 10,
      "outputs": [
        {
          "output_type": "stream",
          "name": "stdout",
          "text": [
            "Enter an year: 1945\n",
            "1945 is not a leap year.\n"
          ]
        }
      ]
    },
    {
      "cell_type": "markdown",
      "source": [
        "##6. Write a program to print first 10 natural numbers using 'for' loop."
      ],
      "metadata": {
        "id": "x0UdkhyIFwti"
      }
    },
    {
      "cell_type": "code",
      "source": [
        "for i in range(1,11):\n",
        "  print(i)"
      ],
      "metadata": {
        "colab": {
          "base_uri": "https://localhost:8080/"
        },
        "id": "0ev-6hlROR_y",
        "outputId": "7004f2f3-770f-404e-c076-4616d0852c45"
      },
      "execution_count": 11,
      "outputs": [
        {
          "output_type": "stream",
          "name": "stdout",
          "text": [
            "1\n",
            "2\n",
            "3\n",
            "4\n",
            "5\n",
            "6\n",
            "7\n",
            "8\n",
            "9\n",
            "10\n"
          ]
        }
      ]
    },
    {
      "cell_type": "markdown",
      "source": [
        "## 7. Write a program that prints the multiplication table of a given number using a 'while' loop."
      ],
      "metadata": {
        "id": "gL4pI3OsGrsr"
      }
    },
    {
      "cell_type": "code",
      "source": [
        "n = int(input(\"Enter a number:\"))\n",
        "i=1\n",
        "while i<=10:\n",
        "  print(n,\"x\",i,\"=\",n*i)\n",
        "  i= i+1"
      ],
      "metadata": {
        "colab": {
          "base_uri": "https://localhost:8080/"
        },
        "id": "vE-PnfZzOsfK",
        "outputId": "f46574c7-cc49-4581-f392-732fbb95ca52"
      },
      "execution_count": 14,
      "outputs": [
        {
          "output_type": "stream",
          "name": "stdout",
          "text": [
            "Enter a number:5\n",
            "5 x 1 = 5\n",
            "5 x 2 = 10\n",
            "5 x 3 = 15\n",
            "5 x 4 = 20\n",
            "5 x 5 = 25\n",
            "5 x 6 = 30\n",
            "5 x 7 = 35\n",
            "5 x 8 = 40\n",
            "5 x 9 = 45\n",
            "5 x 10 = 50\n"
          ]
        }
      ]
    },
    {
      "cell_type": "markdown",
      "source": [
        "##8. Write a program that itrates through numbers 1 to 10 and prints each number. Use continue statement ro skip numbers divisible by 3."
      ],
      "metadata": {
        "id": "CFvCjr-4G7VR"
      }
    },
    {
      "cell_type": "code",
      "source": [
        "i=0\n",
        "while i<10:\n",
        "  i=i+1\n",
        "  if i%3==0:\n",
        "    continue\n",
        "  print(i)"
      ],
      "metadata": {
        "colab": {
          "base_uri": "https://localhost:8080/"
        },
        "id": "ESf172gBPhrE",
        "outputId": "87bee7ed-5544-46b3-823f-f20d3e4ebaa4"
      },
      "execution_count": 23,
      "outputs": [
        {
          "output_type": "stream",
          "name": "stdout",
          "text": [
            "1\n",
            "2\n",
            "4\n",
            "5\n",
            "7\n",
            "8\n",
            "10\n"
          ]
        }
      ]
    },
    {
      "cell_type": "markdown",
      "source": [
        "##9. Create a program that stops printing numbers when it encounters a number greater than 5 using the break statement."
      ],
      "metadata": {
        "id": "M8bwp-_mIOyG"
      }
    },
    {
      "cell_type": "code",
      "source": [
        "for i in range(10):\n",
        "  if i>5:\n",
        "    break\n",
        "  print(i)"
      ],
      "metadata": {
        "colab": {
          "base_uri": "https://localhost:8080/"
        },
        "id": "84zsC-H0TbyX",
        "outputId": "403b9149-090f-4036-ea00-1273ce94b2f3"
      },
      "execution_count": 24,
      "outputs": [
        {
          "output_type": "stream",
          "name": "stdout",
          "text": [
            "0\n",
            "1\n",
            "2\n",
            "3\n",
            "4\n",
            "5\n"
          ]
        }
      ]
    },
    {
      "cell_type": "markdown",
      "source": [
        "##10. Define a function named *greet* that takes a name as an argument and prints \"Hello, [name]\"."
      ],
      "metadata": {
        "id": "1usgYE7cIjD-"
      }
    },
    {
      "cell_type": "code",
      "source": [
        "def greet(name):\n",
        "  print(\"Hello,\",name)\n",
        "\n",
        "greet(\"Tamanna\") #Function call"
      ],
      "metadata": {
        "colab": {
          "base_uri": "https://localhost:8080/"
        },
        "id": "ZhHMh8HTUCPK",
        "outputId": "364bfdc0-d74d-489a-fe9e-4808dd79c1c3"
      },
      "execution_count": 28,
      "outputs": [
        {
          "output_type": "stream",
          "name": "stdout",
          "text": [
            "Hello, Tamanna\n"
          ]
        }
      ]
    },
    {
      "cell_type": "markdown",
      "source": [
        "##11. Create a function that takes two numbers as arguments and returns their sum."
      ],
      "metadata": {
        "id": "1qWMnG1gI6G0"
      }
    },
    {
      "cell_type": "code",
      "source": [
        "def SUM(x,y):\n",
        "  return x+y\n",
        "\n",
        "x = int(input(\"Enter first number:\"))\n",
        "y = int(input(\"Enter second number:\"))\n",
        "print(x,'+',y,'=',SUM(x,y))"
      ],
      "metadata": {
        "colab": {
          "base_uri": "https://localhost:8080/"
        },
        "id": "TTqXauKQUlHG",
        "outputId": "febf404b-ae29-412b-e3af-acad1a6196e4"
      },
      "execution_count": 29,
      "outputs": [
        {
          "output_type": "stream",
          "name": "stdout",
          "text": [
            "Enter first number:55\n",
            "Enter second number:45\n",
            "55 + 45 = 100\n"
          ]
        }
      ]
    }
  ]
}