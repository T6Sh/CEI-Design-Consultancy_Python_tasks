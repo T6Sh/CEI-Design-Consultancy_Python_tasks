{
  "nbformat": 4,
  "nbformat_minor": 0,
  "metadata": {
    "colab": {
      "provenance": []
    },
    "kernelspec": {
      "name": "python3",
      "display_name": "Python 3"
    },
    "language_info": {
      "name": "python"
    }
  },
  "cells": [
    {
      "cell_type": "markdown",
      "source": [
        "# **Python Development Assignment Questions**"
      ],
      "metadata": {
        "id": "2-SqnLnZ7sde"
      }
    },
    {
      "cell_type": "markdown",
      "source": [
        "##1. Write a Python program that initializes an array with 5 number, adds a new number, and prints the updated array."
      ],
      "metadata": {
        "id": "jckFDHvs7563"
      }
    },
    {
      "cell_type": "code",
      "execution_count": 4,
      "metadata": {
        "colab": {
          "base_uri": "https://localhost:8080/",
          "height": 1000
        },
        "collapsed": true,
        "id": "3h2KpyTV7pZu",
        "outputId": "fa510fe3-7900-421e-a2ae-b886a3683397"
      },
      "outputs": [
        {
          "output_type": "stream",
          "name": "stdout",
          "text": [
            "[1, 2, 3, 4, 5, 6, 7, 8, 9, 10, 11, 12, 13, 14, 15, 16, 17, 18, 19, 20, 21, 22, 23, 24, 25, 26, 27, 28, 29, 30, 31, 32, 33, 34, 35, 36, 37, 38, 39, 40, 41, 42, 43, 44, 45, 46, 47, 48, 49, 50, 51, 52, 53, 54, 55, 56, 57, 58, 59, 60, 61, 62, 63, 64, 65, 66, 67, 68, 69, 70, 71, 72, 73, 74, 75, 76, 77, 78, 79, 80, 81, 82, 83, 84, 85, 86, 87, 88, 89, 90, 91, 92, 93, 94, 95, 96, 97, 98, 99]\n",
            "2\n",
            "3\n",
            "4\n",
            "5\n",
            "6\n",
            "7\n",
            "8\n",
            "9\n",
            "10\n",
            "11\n",
            "12\n",
            "13\n",
            "14\n",
            "15\n",
            "16\n",
            "17\n",
            "18\n",
            "19\n",
            "20\n",
            "21\n",
            "22\n",
            "23\n",
            "24\n",
            "25\n",
            "26\n",
            "27\n",
            "28\n",
            "29\n",
            "30\n",
            "31\n",
            "32\n",
            "33\n",
            "34\n",
            "35\n",
            "36\n",
            "37\n",
            "38\n",
            "39\n",
            "40\n",
            "41\n",
            "42\n",
            "43\n",
            "44\n",
            "45\n",
            "46\n",
            "47\n",
            "48\n",
            "49\n",
            "50\n",
            "51\n",
            "52\n",
            "53\n",
            "54\n",
            "55\n",
            "56\n",
            "57\n",
            "58\n",
            "59\n",
            "60\n",
            "61\n",
            "62\n",
            "63\n",
            "64\n",
            "65\n",
            "66\n",
            "67\n",
            "68\n",
            "69\n",
            "70\n",
            "71\n",
            "72\n",
            "73\n",
            "74\n",
            "75\n",
            "76\n",
            "77\n",
            "78\n",
            "79\n",
            "80\n",
            "81\n",
            "82\n",
            "83\n",
            "84\n",
            "85\n",
            "86\n",
            "87\n",
            "88\n",
            "89\n",
            "90\n",
            "91\n",
            "92\n",
            "93\n",
            "94\n",
            "95\n",
            "96\n",
            "97\n",
            "98\n",
            "99\n"
          ]
        },
        {
          "output_type": "error",
          "ename": "IndexError",
          "evalue": "list index out of range",
          "traceback": [
            "\u001b[0;31m---------------------------------------------------------------------------\u001b[0m",
            "\u001b[0;31mIndexError\u001b[0m                                Traceback (most recent call last)",
            "\u001b[0;32m<ipython-input-4-37c5268115bd>\u001b[0m in \u001b[0;36m<cell line: 8>\u001b[0;34m()\u001b[0m\n\u001b[1;32m      7\u001b[0m \u001b[0;31m#printing using for loop\u001b[0m\u001b[0;34m\u001b[0m\u001b[0;34m\u001b[0m\u001b[0m\n\u001b[1;32m      8\u001b[0m \u001b[0;32mfor\u001b[0m \u001b[0mi\u001b[0m \u001b[0;32min\u001b[0m \u001b[0mrange\u001b[0m\u001b[0;34m(\u001b[0m\u001b[0;36m1\u001b[0m\u001b[0;34m,\u001b[0m\u001b[0;36m100\u001b[0m\u001b[0;34m)\u001b[0m\u001b[0;34m:\u001b[0m\u001b[0;34m\u001b[0m\u001b[0;34m\u001b[0m\u001b[0m\n\u001b[0;32m----> 9\u001b[0;31m   \u001b[0mprint\u001b[0m\u001b[0;34m(\u001b[0m\u001b[0marr\u001b[0m\u001b[0;34m[\u001b[0m\u001b[0mi\u001b[0m\u001b[0;34m]\u001b[0m\u001b[0;34m)\u001b[0m\u001b[0;34m\u001b[0m\u001b[0;34m\u001b[0m\u001b[0m\n\u001b[0m",
            "\u001b[0;31mIndexError\u001b[0m: list index out of range"
          ]
        }
      ],
      "source": [
        "#initializing an array\n",
        "arr = []\n",
        "for i in range(1,100):\n",
        "  arr.append(i)\n",
        "\n",
        "print(arr)\n",
        "#printing using for loop\n",
        "for i in range(1,100):\n",
        "  print(arr[i])"
      ]
    },
    {
      "cell_type": "markdown",
      "source": [
        "##2. Create a program that takes user input to add multiple elements to an array, then prints the final array."
      ],
      "metadata": {
        "id": "q6Iope4-8Rqj"
      }
    },
    {
      "cell_type": "code",
      "source": [
        "arr = []\n",
        "\n",
        "n = int(input(\"Enter the number of elements you want to add to the array: \"))\n",
        "for i in range(n):\n",
        "   ele = input(f\"Enter element {i+1}:\")\n",
        "   arr.append(ele)\n",
        "print (\"Final array is\",arr)"
      ],
      "metadata": {
        "colab": {
          "base_uri": "https://localhost:8080/"
        },
        "id": "UrI1N1zK_Tak",
        "outputId": "f6adbbd4-e08d-4b67-d738-1f3fe599568a"
      },
      "execution_count": 15,
      "outputs": [
        {
          "output_type": "stream",
          "name": "stdout",
          "text": [
            "Enter the number of elements you want to add to the array: 5\n",
            "Enter element 1:1\n",
            "Enter element 2:2\n",
            "Enter element 3:3\n",
            "Enter element 4:4\n",
            "Enter element 5:5\n",
            "Final array is ['1', '2', '3', '4', '5']\n"
          ]
        }
      ]
    },
    {
      "cell_type": "markdown",
      "source": [
        "##3. Write a python program that reads a JSON file containing NASA APOD data and print the keys: \"explaination\", \"Title\"\n",
        "JSON Data url: https://api.nasa.gov/planetary/apod?api=key-DEMO_KEY"
      ],
      "metadata": {
        "id": "cagVtoYI8s3O"
      }
    },
    {
      "cell_type": "code",
      "source": [
        "import requests\n",
        "import json\n",
        "\n",
        "# URL of the NASA APOD data\n",
        "url = \"https://api.nasa.gov/planetary/apod?api_key=DEMO_KEY\"\n",
        "\n",
        "# Fetching the data from the URL\n",
        "response = requests.get(url)\n",
        "\n",
        "# Checking if the request was successful\n",
        "if response.status_code == 200:\n",
        "    # Parsing the JSON data\n",
        "    apod_data = response.json()\n",
        "\n",
        "    # Printing the \"explanation\" and \"title\" keys\n",
        "    explanation = apod_data.get(\"explanation\", \"No explanation available\")\n",
        "    title = apod_data.get(\"title\", \"No title available\")\n",
        "\n",
        "    print(\"Title:\", title)\n",
        "    print(\"Explanation:\", explanation)\n",
        "else:\n",
        "    print(\"Failed to retrieve data. HTTP Status code\")\n"
      ],
      "metadata": {
        "colab": {
          "base_uri": "https://localhost:8080/"
        },
        "id": "SHFdVExFAIrq",
        "outputId": "21e638c3-0ef9-4e47-8360-b19360ac99cd"
      },
      "execution_count": 6,
      "outputs": [
        {
          "output_type": "stream",
          "name": "stdout",
          "text": [
            "Title: Storm Cloud Over Texas\n",
            "Explanation: What makes this storm cloud so colorful?  First, the cloud itself is composed of millions of tiny droplets of water and ice.  Its bottom is almost completely flat -- but this isn't unusual.  Bottom flatness in clouds is generally caused by air temperature dropping as you go up, and that above a specific height, water-saturated air condenses out water droplets.  The shape of the cloud middle is caused by a water-droplet-laden column of air being blown upward.  Most unusual, though, are the orange and yellow colors.  Both colors are caused by the cloud's water drops reflecting sunlight. The orange color in the cloud's middle and bottom sections are reflections of a nearly red sunset.  In contrast, the yellow color of the cloud's top results from reflection of light from a not-yet-setting Sun, where some -- but less -- blue light is being scattered away. Appearing to float above the plains in Texas, the featured impressive image of a dynamic cumulonimbus cloud was captured in 2021 while investigating a tornado.\n"
          ]
        }
      ]
    },
    {
      "cell_type": "markdown",
      "source": [
        "##4. Write a python program using *requests* module to send a GET request to a given below Url API endpoint and print the JSON response\n",
        "Url: http://api.open-notify.org/iss-now.json)\n"
      ],
      "metadata": {
        "id": "6ke2wFve9M_p"
      }
    },
    {
      "cell_type": "code",
      "source": [
        "import requests\n",
        "\n",
        "# Sending a GET request to the URL\n",
        "response = requests.get(\"http://api.open-notify.org/iss-now.json\")\n",
        "\n",
        "# Checking if the request was successful\n",
        "if response.status_code == 200:\n",
        "    # Parsing the JSON response\n",
        "    json_data = response.json()\n",
        "\n",
        "    # Printing the JSON response\n",
        "    print(json.dumps(json_data, indent=4))\n",
        "else:\n",
        "    print(\"Failed to retrieve data. HTTP Status code:\", response.status_code)"
      ],
      "metadata": {
        "colab": {
          "base_uri": "https://localhost:8080/"
        },
        "collapsed": true,
        "id": "kFyxX66SB3hR",
        "outputId": "5c8accf1-9daf-4793-d7b1-8fbb014c2126"
      },
      "execution_count": 7,
      "outputs": [
        {
          "output_type": "stream",
          "name": "stdout",
          "text": [
            "{\n",
            "    \"timestamp\": 1722920156,\n",
            "    \"iss_position\": {\n",
            "        \"latitude\": \"-7.8959\",\n",
            "        \"longitude\": \"-135.3729\"\n",
            "    },\n",
            "    \"message\": \"success\"\n",
            "}\n"
          ]
        }
      ]
    },
    {
      "cell_type": "markdown",
      "source": [
        "##5. Write a Python program using the requests module to send a GET request to a Given Below Uri API endpoint and print the\n",
        "\n",
        "a) latitude\n",
        "\n",
        "b) longitude\n",
        "\n",
        "c) timestamp\n",
        "\n",
        "(Url: http://api.open-notify.org/iss-now.json)"
      ],
      "metadata": {
        "id": "R3B41grT-sbL"
      }
    },
    {
      "cell_type": "code",
      "source": [
        "import requests\n",
        "\n",
        "# Sending a GET request to the URL\n",
        "response = requests.get(\"http://api.open-notify.org/iss-now.json\")\n",
        "\n",
        "# Checking if the request was successful\n",
        "if response.status_code == 200:\n",
        "    # Parsing the JSON response\n",
        "    json_data = response.json()\n",
        "\n",
        "    # Extracting the latitude, longitude, and timestamp\n",
        "    latitude = json_data['iss_position']['latitude']\n",
        "    longitude = json_data['iss_position']['longitude']\n",
        "    timestamp = json_data['timestamp']\n",
        "\n",
        "    # Printing the latitude, longitude, and timestamp\n",
        "    print(f\"Latitude: {latitude}\")\n",
        "    print(f\"Longitude: {longitude}\")\n",
        "    print(f\"Timestamp: {timestamp}\")\n",
        "else:\n",
        "    print(\"Failed to retrieve data. HTTP Status code:\", response.status_code)"
      ],
      "metadata": {
        "colab": {
          "base_uri": "https://localhost:8080/"
        },
        "id": "oKF4QZGcB2tv",
        "outputId": "64c88ff6-02aa-407c-b5b7-ca1870ebecbb"
      },
      "execution_count": 10,
      "outputs": [
        {
          "output_type": "stream",
          "name": "stdout",
          "text": [
            "Latitude: -26.3156\n",
            "Longitude: -120.2137\n",
            "Timestamp: 1722920533\n"
          ]
        }
      ]
    },
    {
      "cell_type": "markdown",
      "source": [
        "##6. Write a Python program that write data in csv file using pandas of ISS Location with timestamp min 100 records\n",
        "\n",
        "Use this url to get the data of ISS\n",
        "(Url: http://api.open-notify.org/iss-now.json)"
      ],
      "metadata": {
        "id": "Q_hSGnC_BJKU"
      }
    },
    {
      "cell_type": "code",
      "source": [
        "import requests\n",
        "\n",
        "# URL of the API endpoint\n",
        "url = \"http://api.open-notify.org/iss-now.json\"\n",
        "\n",
        "# Sending a GET request to the URL\n",
        "response = requests.get(url)\n",
        "\n",
        "# Checking if the request was successful\n",
        "if response.status_code == 200:\n",
        "    # Parsing the JSON response\n",
        "    json_data = response.json()\n",
        "\n",
        "    # Extracting the latitude, longitude, and timestamp\n",
        "    latitude = json_data['iss_position']['latitude']\n",
        "    longitude = json_data['iss_position']['longitude']\n",
        "    timestamp = json_data['timestamp']\n",
        "\n",
        "    # Printing the latitude, longitude, and timestamp\n",
        "    print(f\"Latitude: {latitude}\")\n",
        "    print(f\"Longitude: {longitude}\")\n",
        "    print(f\"Timestamp: {timestamp}\")\n",
        "else:\n",
        "    print(\"Failed to retrieve data. HTTP Status code:\", response.status_code)"
      ],
      "metadata": {
        "colab": {
          "base_uri": "https://localhost:8080/"
        },
        "id": "4wSF3NwVB8LJ",
        "outputId": "1eabc38a-072c-4eaf-dcdb-4166d348782d"
      },
      "execution_count": 11,
      "outputs": [
        {
          "output_type": "stream",
          "name": "stdout",
          "text": [
            "Latitude: -26.7349\n",
            "Longitude: -119.8002\n",
            "Timestamp: 1722920542\n"
          ]
        }
      ]
    }
  ]
}